{
  "nbformat": 4,
  "nbformat_minor": 0,
  "metadata": {
    "colab": {
      "provenance": []
    },
    "kernelspec": {
      "name": "python3",
      "display_name": "Python 3"
    },
    "language_info": {
      "name": "python"
    }
  },
  "cells": [
    {
      "cell_type": "code",
      "source": [
        "import pandas as pd\n",
        "\n",
        "!wget https://course.ccs.neu.edu/cs6220/lecture-labs/lecture-3/abalone.csv"
      ],
      "metadata": {
        "colab": {
          "base_uri": "https://localhost:8080/"
        },
        "id": "Qz1zVnbqwJhF",
        "outputId": "70319e73-800c-4869-8044-b0498f7538e7"
      },
      "execution_count": 1,
      "outputs": [
        {
          "output_type": "stream",
          "name": "stdout",
          "text": [
            "--2023-02-02 02:58:52--  https://course.ccs.neu.edu/cs6220/lecture-labs/lecture-3/abalone.csv\n",
            "Resolving course.ccs.neu.edu (course.ccs.neu.edu)... 129.10.117.35\n",
            "Connecting to course.ccs.neu.edu (course.ccs.neu.edu)|129.10.117.35|:443... connected.\n",
            "HTTP request sent, awaiting response... 200 OK\n",
            "Length: 191962 (187K) [text/csv]\n",
            "Saving to: ‘abalone.csv’\n",
            "\n",
            "abalone.csv         100%[===================>] 187.46K   343KB/s    in 0.5s    \n",
            "\n",
            "2023-02-02 02:58:54 (343 KB/s) - ‘abalone.csv’ saved [191962/191962]\n",
            "\n"
          ]
        }
      ]
    },
    {
      "cell_type": "markdown",
      "source": [
        "# Read in Abalone data"
      ],
      "metadata": {
        "id": "paHllXrD0paL"
      }
    },
    {
      "cell_type": "code",
      "source": [
        "df = pd.read_csv(\"abalone.csv\")"
      ],
      "metadata": {
        "id": "MDXfwqQrwNBO"
      },
      "execution_count": 2,
      "outputs": []
    },
    {
      "cell_type": "markdown",
      "source": [
        "# Explore the data\n",
        "\n",
        "In this lab, you're going to drop features and scatter the points after projecting along 2 principle components axes.\n",
        "\n",
        "For example, you may drop columns in `Pandas` by typing \n",
        "\n",
        "\n",
        "1. Prune the data. Drop columns `Sex` and/or `Rings`. \\\n",
        "   ```matrix = df.loc[:, df.columns != \"Sex\"]```\n",
        "\n",
        "1. Calculate the covariance matrix. You can calculate the covariance matrix via: \\\n",
        "   $$Cov(X_i, X_j) = \\mathbb{E}[(X_i - \\mu_{x_i})(X_j - \\mu_{x_j})^T]$$\n",
        "\n",
        "1. Calculate the first two components of PCA. You can feel free to use `np.linalg.eig`.\n",
        "\n",
        "1. Verify the principle components. To calculate PCA, feel free to use the PCA function from `scikit.learn`. \\\n",
        "\n",
        "  ```\n",
        "  from sklearn.decomposition import PCA\n",
        "  # Two components of PCA\n",
        "  pca = PCA(2)\n",
        "\n",
        "  # Fit on data\n",
        "  pca.fit(A)\n",
        "\n",
        "  # Access values and vectors\n",
        "  print(pca.components_)\n",
        "  print(pca.explained_variance_)\n",
        "\n",
        "  # transform data\n",
        "  B = pca.transform(A)\n",
        "  print(B)\n",
        "  ```\n",
        "\n",
        "1. Scatter the data to view it in two dimensions"
      ],
      "metadata": {
        "id": "XRByH8x90udO"
      }
    },
    {
      "cell_type": "code",
      "source": [
        "df.head()"
      ],
      "metadata": {
        "id": "GRi456zu2QCr",
        "colab": {
          "base_uri": "https://localhost:8080/",
          "height": 206
        },
        "outputId": "99d89e02-c7dc-462a-faf5-c708629c857e"
      },
      "execution_count": 3,
      "outputs": [
        {
          "output_type": "execute_result",
          "data": {
            "text/plain": [
              "  Sex  Length  Diameter  Height  Whole weight  Shucked weight  Viscera weight  \\\n",
              "0   M   0.455     0.365   0.095        0.5140          0.2245          0.1010   \n",
              "1   M   0.350     0.265   0.090        0.2255          0.0995          0.0485   \n",
              "2   F   0.530     0.420   0.135        0.6770          0.2565          0.1415   \n",
              "3   M   0.440     0.365   0.125        0.5160          0.2155          0.1140   \n",
              "4   I   0.330     0.255   0.080        0.2050          0.0895          0.0395   \n",
              "\n",
              "   Shell weight  Rings  \n",
              "0         0.150     15  \n",
              "1         0.070      7  \n",
              "2         0.210      9  \n",
              "3         0.155     10  \n",
              "4         0.055      7  "
            ],
            "text/html": [
              "\n",
              "  <div id=\"df-5edcdf2c-75e3-4d94-805a-e67e6fe08206\">\n",
              "    <div class=\"colab-df-container\">\n",
              "      <div>\n",
              "<style scoped>\n",
              "    .dataframe tbody tr th:only-of-type {\n",
              "        vertical-align: middle;\n",
              "    }\n",
              "\n",
              "    .dataframe tbody tr th {\n",
              "        vertical-align: top;\n",
              "    }\n",
              "\n",
              "    .dataframe thead th {\n",
              "        text-align: right;\n",
              "    }\n",
              "</style>\n",
              "<table border=\"1\" class=\"dataframe\">\n",
              "  <thead>\n",
              "    <tr style=\"text-align: right;\">\n",
              "      <th></th>\n",
              "      <th>Sex</th>\n",
              "      <th>Length</th>\n",
              "      <th>Diameter</th>\n",
              "      <th>Height</th>\n",
              "      <th>Whole weight</th>\n",
              "      <th>Shucked weight</th>\n",
              "      <th>Viscera weight</th>\n",
              "      <th>Shell weight</th>\n",
              "      <th>Rings</th>\n",
              "    </tr>\n",
              "  </thead>\n",
              "  <tbody>\n",
              "    <tr>\n",
              "      <th>0</th>\n",
              "      <td>M</td>\n",
              "      <td>0.455</td>\n",
              "      <td>0.365</td>\n",
              "      <td>0.095</td>\n",
              "      <td>0.5140</td>\n",
              "      <td>0.2245</td>\n",
              "      <td>0.1010</td>\n",
              "      <td>0.150</td>\n",
              "      <td>15</td>\n",
              "    </tr>\n",
              "    <tr>\n",
              "      <th>1</th>\n",
              "      <td>M</td>\n",
              "      <td>0.350</td>\n",
              "      <td>0.265</td>\n",
              "      <td>0.090</td>\n",
              "      <td>0.2255</td>\n",
              "      <td>0.0995</td>\n",
              "      <td>0.0485</td>\n",
              "      <td>0.070</td>\n",
              "      <td>7</td>\n",
              "    </tr>\n",
              "    <tr>\n",
              "      <th>2</th>\n",
              "      <td>F</td>\n",
              "      <td>0.530</td>\n",
              "      <td>0.420</td>\n",
              "      <td>0.135</td>\n",
              "      <td>0.6770</td>\n",
              "      <td>0.2565</td>\n",
              "      <td>0.1415</td>\n",
              "      <td>0.210</td>\n",
              "      <td>9</td>\n",
              "    </tr>\n",
              "    <tr>\n",
              "      <th>3</th>\n",
              "      <td>M</td>\n",
              "      <td>0.440</td>\n",
              "      <td>0.365</td>\n",
              "      <td>0.125</td>\n",
              "      <td>0.5160</td>\n",
              "      <td>0.2155</td>\n",
              "      <td>0.1140</td>\n",
              "      <td>0.155</td>\n",
              "      <td>10</td>\n",
              "    </tr>\n",
              "    <tr>\n",
              "      <th>4</th>\n",
              "      <td>I</td>\n",
              "      <td>0.330</td>\n",
              "      <td>0.255</td>\n",
              "      <td>0.080</td>\n",
              "      <td>0.2050</td>\n",
              "      <td>0.0895</td>\n",
              "      <td>0.0395</td>\n",
              "      <td>0.055</td>\n",
              "      <td>7</td>\n",
              "    </tr>\n",
              "  </tbody>\n",
              "</table>\n",
              "</div>\n",
              "      <button class=\"colab-df-convert\" onclick=\"convertToInteractive('df-5edcdf2c-75e3-4d94-805a-e67e6fe08206')\"\n",
              "              title=\"Convert this dataframe to an interactive table.\"\n",
              "              style=\"display:none;\">\n",
              "        \n",
              "  <svg xmlns=\"http://www.w3.org/2000/svg\" height=\"24px\"viewBox=\"0 0 24 24\"\n",
              "       width=\"24px\">\n",
              "    <path d=\"M0 0h24v24H0V0z\" fill=\"none\"/>\n",
              "    <path d=\"M18.56 5.44l.94 2.06.94-2.06 2.06-.94-2.06-.94-.94-2.06-.94 2.06-2.06.94zm-11 1L8.5 8.5l.94-2.06 2.06-.94-2.06-.94L8.5 2.5l-.94 2.06-2.06.94zm10 10l.94 2.06.94-2.06 2.06-.94-2.06-.94-.94-2.06-.94 2.06-2.06.94z\"/><path d=\"M17.41 7.96l-1.37-1.37c-.4-.4-.92-.59-1.43-.59-.52 0-1.04.2-1.43.59L10.3 9.45l-7.72 7.72c-.78.78-.78 2.05 0 2.83L4 21.41c.39.39.9.59 1.41.59.51 0 1.02-.2 1.41-.59l7.78-7.78 2.81-2.81c.8-.78.8-2.07 0-2.86zM5.41 20L4 18.59l7.72-7.72 1.47 1.35L5.41 20z\"/>\n",
              "  </svg>\n",
              "      </button>\n",
              "      \n",
              "  <style>\n",
              "    .colab-df-container {\n",
              "      display:flex;\n",
              "      flex-wrap:wrap;\n",
              "      gap: 12px;\n",
              "    }\n",
              "\n",
              "    .colab-df-convert {\n",
              "      background-color: #E8F0FE;\n",
              "      border: none;\n",
              "      border-radius: 50%;\n",
              "      cursor: pointer;\n",
              "      display: none;\n",
              "      fill: #1967D2;\n",
              "      height: 32px;\n",
              "      padding: 0 0 0 0;\n",
              "      width: 32px;\n",
              "    }\n",
              "\n",
              "    .colab-df-convert:hover {\n",
              "      background-color: #E2EBFA;\n",
              "      box-shadow: 0px 1px 2px rgba(60, 64, 67, 0.3), 0px 1px 3px 1px rgba(60, 64, 67, 0.15);\n",
              "      fill: #174EA6;\n",
              "    }\n",
              "\n",
              "    [theme=dark] .colab-df-convert {\n",
              "      background-color: #3B4455;\n",
              "      fill: #D2E3FC;\n",
              "    }\n",
              "\n",
              "    [theme=dark] .colab-df-convert:hover {\n",
              "      background-color: #434B5C;\n",
              "      box-shadow: 0px 1px 3px 1px rgba(0, 0, 0, 0.15);\n",
              "      filter: drop-shadow(0px 1px 2px rgba(0, 0, 0, 0.3));\n",
              "      fill: #FFFFFF;\n",
              "    }\n",
              "  </style>\n",
              "\n",
              "      <script>\n",
              "        const buttonEl =\n",
              "          document.querySelector('#df-5edcdf2c-75e3-4d94-805a-e67e6fe08206 button.colab-df-convert');\n",
              "        buttonEl.style.display =\n",
              "          google.colab.kernel.accessAllowed ? 'block' : 'none';\n",
              "\n",
              "        async function convertToInteractive(key) {\n",
              "          const element = document.querySelector('#df-5edcdf2c-75e3-4d94-805a-e67e6fe08206');\n",
              "          const dataTable =\n",
              "            await google.colab.kernel.invokeFunction('convertToInteractive',\n",
              "                                                     [key], {});\n",
              "          if (!dataTable) return;\n",
              "\n",
              "          const docLinkHtml = 'Like what you see? Visit the ' +\n",
              "            '<a target=\"_blank\" href=https://colab.research.google.com/notebooks/data_table.ipynb>data table notebook</a>'\n",
              "            + ' to learn more about interactive tables.';\n",
              "          element.innerHTML = '';\n",
              "          dataTable['output_type'] = 'display_data';\n",
              "          await google.colab.output.renderOutput(dataTable, element);\n",
              "          const docLink = document.createElement('div');\n",
              "          docLink.innerHTML = docLinkHtml;\n",
              "          element.appendChild(docLink);\n",
              "        }\n",
              "      </script>\n",
              "    </div>\n",
              "  </div>\n",
              "  "
            ]
          },
          "metadata": {},
          "execution_count": 3
        }
      ]
    },
    {
      "cell_type": "code",
      "source": [
        "df=df.drop(columns=[\"Sex\",\"Rings\"]) # I dropped both Sex and Rings"
      ],
      "metadata": {
        "id": "e2A85_UwEP-4"
      },
      "execution_count": 6,
      "outputs": []
    },
    {
      "cell_type": "code",
      "source": [
        "df.columns"
      ],
      "metadata": {
        "colab": {
          "base_uri": "https://localhost:8080/"
        },
        "id": "nG-o1uFoEd8m",
        "outputId": "349956bb-fa44-4cd7-d804-b0aa93a62d34"
      },
      "execution_count": 7,
      "outputs": [
        {
          "output_type": "execute_result",
          "data": {
            "text/plain": [
              "Index(['Length', 'Diameter', 'Height', 'Whole weight', 'Shucked weight',\n",
              "       'Viscera weight', 'Shell weight'],\n",
              "      dtype='object')"
            ]
          },
          "metadata": {},
          "execution_count": 7
        }
      ]
    },
    {
      "cell_type": "code",
      "source": [
        "#calculate Cov\n",
        "import numpy as np\n",
        "Cov=np.cov(df.T) #记得transpose，因为要的是X_T，这样得到的才是n*n的协方差矩阵\n",
        "print(Cov)"
      ],
      "metadata": {
        "colab": {
          "base_uri": "https://localhost:8080/"
        },
        "id": "q_MVKTzSEec3",
        "outputId": "adfaa45a-95cc-4977-e8d8-fa94cc616c9e"
      },
      "execution_count": 18,
      "outputs": [
        {
          "output_type": "stream",
          "name": "stdout",
          "text": [
            "[[0.01442231 0.01176082 0.00415691 0.05449071 0.02393495 0.01188723\n",
            "  0.01500717]\n",
            " [0.01176082 0.00984855 0.00346055 0.04503818 0.0196742  0.0097873\n",
            "  0.01250664]\n",
            " [0.00415691 0.00346055 0.0017495  0.01680347 0.00719489 0.00366017\n",
            "  0.0047589 ]\n",
            " [0.05449071 0.04503818 0.01680347 0.24048139 0.10551803 0.05194616\n",
            "  0.06521587]\n",
            " [0.02393495 0.0196742  0.00719489 0.10551803 0.04926755 0.0226749\n",
            "  0.02727096]\n",
            " [0.01188723 0.0097873  0.00366017 0.05194616 0.0226749  0.01201528\n",
            "  0.01384956]\n",
            " [0.01500717 0.01250664 0.0047589  0.06521587 0.02727096 0.01384956\n",
            "  0.01937738]]\n"
          ]
        }
      ]
    },
    {
      "cell_type": "code",
      "source": [
        "Cov.shape"
      ],
      "metadata": {
        "colab": {
          "base_uri": "https://localhost:8080/"
        },
        "id": "f42TGYIALyZD",
        "outputId": "b7e26204-bac3-49e2-b72a-fc3f8618de7a"
      },
      "execution_count": 23,
      "outputs": [
        {
          "output_type": "execute_result",
          "data": {
            "text/plain": [
              "(7, 7)"
            ]
          },
          "metadata": {},
          "execution_count": 23
        }
      ]
    },
    {
      "cell_type": "code",
      "source": [
        "eigval, eigvec = np.linalg.eig(Cov)"
      ],
      "metadata": {
        "id": "eaxaOA5AExzJ"
      },
      "execution_count": 19,
      "outputs": []
    },
    {
      "cell_type": "code",
      "source": [
        "print(eigvec) #特征向量矩阵"
      ],
      "metadata": {
        "colab": {
          "base_uri": "https://localhost:8080/"
        },
        "id": "JLMf77EPFCZW",
        "outputId": "666f8e7e-1b09-4688-ed4b-3879e0fef7e5"
      },
      "execution_count": 20,
      "outputs": [
        {
          "output_type": "stream",
          "name": "stdout",
          "text": [
            "[[-1.93156059e-01  3.50069286e-01 -6.55435958e-01 -3.87845990e-02\n",
            "  -6.20285186e-01  1.55845008e-01  5.60615302e-04]\n",
            " [-1.59552075e-01  3.18820741e-01 -5.05473077e-01  1.80604524e-02\n",
            "   7.81379947e-01  7.48357409e-02 -3.02034552e-02]\n",
            " [-5.92827068e-02  1.34751753e-01 -8.60795787e-02  4.68325197e-03\n",
            "  -4.73954978e-02 -9.24448472e-01 -3.37704883e-01]\n",
            " [-8.42619224e-01  1.88240197e-02  3.11470276e-01 -1.27977156e-01\n",
            "  -6.24787436e-03  1.67979449e-01 -3.84695312e-01]\n",
            " [-3.71958945e-01 -7.03431694e-01 -3.37272496e-01  3.53767145e-01\n",
            "   1.25725048e-02 -1.62443835e-01  3.18402885e-01]\n",
            " [-1.82251024e-01  1.29477099e-02  2.50613453e-02 -7.62977566e-01\n",
            "   3.37328611e-02 -2.07282449e-01  5.82880918e-01]\n",
            " [-2.28349259e-01  5.12160776e-01  3.09994257e-01  5.23911759e-01\n",
            "  -3.33215094e-02 -1.33924825e-01  5.43986951e-01]]\n"
          ]
        }
      ]
    },
    {
      "cell_type": "code",
      "source": [
        "eigval.shape"
      ],
      "metadata": {
        "colab": {
          "base_uri": "https://localhost:8080/"
        },
        "id": "JNihA_0_MBHl",
        "outputId": "eeabcff1-18ae-466b-d31a-1a34eda94ee2"
      },
      "execution_count": 25,
      "outputs": [
        {
          "output_type": "execute_result",
          "data": {
            "text/plain": [
              "(7,)"
            ]
          },
          "metadata": {},
          "execution_count": 25
        }
      ]
    },
    {
      "cell_type": "code",
      "source": [
        "eigvec.shape"
      ],
      "metadata": {
        "colab": {
          "base_uri": "https://localhost:8080/"
        },
        "id": "GYpmyg8YLCrI",
        "outputId": "82bf5c4b-a2f0-4b69-f65a-416e691f23a3"
      },
      "execution_count": 21,
      "outputs": [
        {
          "output_type": "execute_result",
          "data": {
            "text/plain": [
              "(7, 7)"
            ]
          },
          "metadata": {},
          "execution_count": 21
        }
      ]
    },
    {
      "cell_type": "code",
      "source": [
        "print(eigval) #特征值"
      ],
      "metadata": {
        "colab": {
          "base_uri": "https://localhost:8080/"
        },
        "id": "mhViD_55FDTj",
        "outputId": "cefa7c69-1d26-4b1b-b21a-2a7f797298fd"
      },
      "execution_count": 26,
      "outputs": [
        {
          "output_type": "stream",
          "name": "stdout",
          "text": [
            "[3.38170727e-01 3.96403025e-03 2.90771416e-03 1.05490434e-03\n",
            " 1.48141736e-04 4.89663867e-04 4.26787482e-04]\n"
          ]
        }
      ]
    },
    {
      "cell_type": "code",
      "source": [
        "from sklearn.decomposition import PCA\n",
        "# Two components of PCA\n",
        "pca = PCA(2)\n",
        "\n",
        "# Fit on data\n",
        "pca.fit(df)\n",
        "\n",
        "# Access values and vectors\n",
        "print(pca.components_)\n",
        "print(pca.explained_variance_)\n",
        "\n",
        "# transform data\n",
        "B = pca.transform(df)\n",
        "print(B)"
      ],
      "metadata": {
        "colab": {
          "base_uri": "https://localhost:8080/"
        },
        "id": "2ElQMxCgFEQ-",
        "outputId": "c452c04b-5162-4e55-9670-24f70b85c170"
      },
      "execution_count": 28,
      "outputs": [
        {
          "output_type": "stream",
          "name": "stdout",
          "text": [
            "[[ 0.19315606  0.15955208  0.05928271  0.84261922  0.37195895  0.18225102\n",
            "   0.22834926]\n",
            " [-0.35006929 -0.31882074 -0.13475175 -0.01882402  0.70343169 -0.01294771\n",
            "  -0.51216078]]\n",
            "[0.33817073 0.00396403]\n",
            "[[-0.37297053  0.00140299]\n",
            " [-0.72693017  0.02987049]\n",
            " [-0.17700541 -0.05958994]\n",
            " ...\n",
            " [ 0.41895149  0.01668526]\n",
            " [ 0.34791783  0.02404874]\n",
            " [ 1.31843776  0.13799284]]\n"
          ]
        }
      ]
    },
    {
      "cell_type": "code",
      "source": [
        "import matplotlib.pyplot as plt\n",
        "\n",
        "plt.scatter(B[:, 0], B[:, 1],marker='o')\n",
        "plt.show()"
      ],
      "metadata": {
        "colab": {
          "base_uri": "https://localhost:8080/",
          "height": 265
        },
        "id": "4e5PjnMpF3ve",
        "outputId": "7ccbcc80-e958-499d-8f34-db06e3898e7e"
      },
      "execution_count": 29,
      "outputs": [
        {
          "output_type": "display_data",
          "data": {
            "text/plain": [
              "<Figure size 432x288 with 1 Axes>"
            ],
            "image/png": "[encoded data removed]"
          },
          "metadata": {
            "needs_background": "light"
          }
        }
      ]
    },
    {
      "cell_type": "code",
      "source": [
        "df_use_8 = pd.read_csv(\"abalone.csv\")"
      ],
      "metadata": {
        "id": "p75UODN_GUxL"
      },
      "execution_count": 30,
      "outputs": []
    },
    {
      "cell_type": "code",
      "source": [
        "df_use_8=df_use_8.drop(columns=[\"Sex\"])"
      ],
      "metadata": {
        "id": "6Pt88v2vNGTG"
      },
      "execution_count": 32,
      "outputs": []
    },
    {
      "cell_type": "code",
      "source": [
        "from sklearn.decomposition import PCA\n",
        "# Two components of PCA\n",
        "pca = PCA(2)\n",
        "\n",
        "# Fit on data\n",
        "pca.fit(df_use_8)\n",
        "\n",
        "# Access values and vectors\n",
        "print(pca.components_)\n",
        "print(pca.explained_variance_)\n",
        "\n",
        "# transform data\n",
        "B = pca.transform(df_use_8)\n",
        "print(B)\n",
        "\n",
        "import matplotlib.pyplot as plt\n",
        "\n",
        "plt.scatter(B[:, 0], B[:, 1],marker='o')\n",
        "plt.show()"
      ],
      "metadata": {
        "colab": {
          "base_uri": "https://localhost:8080/",
          "height": 481
        },
        "id": "oEb1h8fZNAsB",
        "outputId": "540c44db-9bf4-4b20-a113-54677ead244d"
      },
      "execution_count": 34,
      "outputs": [
        {
          "output_type": "stream",
          "name": "stdout",
          "text": [
            "[[ 0.02105132  0.01794012  0.0073163   0.08368049  0.02973466  0.01745992\n",
            "   0.02743115  0.99510682]\n",
            " [ 0.18305275  0.14880419  0.05245956  0.83446131  0.3999516   0.18325279\n",
            "   0.20527245 -0.0979371 ]]\n",
            "[10.49543138  0.23926882]\n",
            "[[ 5.00480331 -0.86692655]\n",
            " [-2.99106199 -0.43457164]\n",
            " [-0.94603495 -0.08673867]\n",
            " ...\n",
            " [-0.88806992  0.5087862 ]\n",
            " [ 0.0998919   0.34089986]\n",
            " [ 2.18474351  1.11378693]]\n"
          ]
        },
        {
          "output_type": "display_data",
          "data": {
            "text/plain": [
              "<Figure size 432x288 with 1 Axes>"
            ],
            "image/png": "[encoded data removed]"
          },
          "metadata": {
            "needs_background": "light"
          }
        }
      ]
    },
    {
      "cell_type": "code",
      "source": [],
      "metadata": {
        "id": "3eO_YyduNEYq"
      },
      "execution_count": null,
      "outputs": []
    }
  ]
}